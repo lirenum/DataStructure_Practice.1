{
 "cells": [
  {
   "cell_type": "markdown",
   "metadata": {},
   "source": [
    "# TMA01 Q1 A"
   ]
  },
  {
   "cell_type": "code",
   "execution_count": 24,
   "metadata": {},
   "outputs": [],
   "source": [
    "def double_lettered(word: str) -> bool:\n",
    "    \"\"\"true if and only if word contains a two (or more) consecutive identical letters and only lowercase letters.\"\"\"\n",
    "    lowercase = False\n",
    "    double_letter = False\n",
    "    for letter in range(len(word)-1):\n",
    "        if word[letter] == word[letter+1]:\n",
    "            double_letter = True\n",
    "        if 'a' <= word <= 'z':\n",
    "            lowercase = True\n",
    "        if lowercase and double_letter:     \n",
    "            return True\n",
    "    return False"
   ]
  },
  {
   "cell_type": "code",
   "execution_count": 23,
   "metadata": {},
   "outputs": [
    {
     "data": {
      "text/plain": [
       "False"
      ]
     },
     "execution_count": 23,
     "metadata": {},
     "output_type": "execute_result"
    }
   ],
   "source": [
    "double_lettered('lirran')"
   ]
  },
  {
   "cell_type": "code",
   "execution_count": 25,
   "metadata": {},
   "outputs": [
    {
     "data": {
      "text/plain": [
       "True"
      ]
     },
     "execution_count": 25,
     "metadata": {},
     "output_type": "execute_result"
    }
   ],
   "source": [
    "double_lettered('lirran')"
   ]
  },
  {
   "cell_type": "code",
   "execution_count": 26,
   "metadata": {},
   "outputs": [
    {
     "data": {
      "text/plain": [
       "False"
      ]
     },
     "execution_count": 26,
     "metadata": {},
     "output_type": "execute_result"
    }
   ],
   "source": [
    "double_lettered('Lirran')"
   ]
  },
  {
   "cell_type": "markdown",
   "metadata": {},
   "source": [
    "# TMA01 Q1 B"
   ]
  },
  {
   "cell_type": "code",
   "execution_count": 6,
   "metadata": {},
   "outputs": [],
   "source": [
    "def is_anagram(potential: str, known_word: str) -> bool:\n",
    "    if len(potential) != len(known_word) or potential == known_word:     \n",
    "        return False\n",
    "    list_potential = list(potential)\n",
    "    list_known_word = list(known_word)\n",
    "    list_potential.sort()\n",
    "    list_known_word.sort()\n",
    "    for index in range(len(list_potential)):    \n",
    "        if list_potential[index] != list_known_word[index]:\n",
    "            return False\n",
    "    return True\n"
   ]
  },
  {
   "cell_type": "code",
   "execution_count": null,
   "metadata": {},
   "outputs": [],
   "source": []
  },
  {
   "cell_type": "code",
   "execution_count": 10,
   "metadata": {},
   "outputs": [
    {
     "data": {
      "text/plain": [
       "True"
      ]
     },
     "execution_count": 10,
     "metadata": {},
     "output_type": "execute_result"
    }
   ],
   "source": [
    "is_anagram('nnaa','anna')"
   ]
  },
  {
   "cell_type": "code",
   "execution_count": 11,
   "metadata": {},
   "outputs": [
    {
     "data": {
      "text/plain": [
       "False"
      ]
     },
     "execution_count": 11,
     "metadata": {},
     "output_type": "execute_result"
    }
   ],
   "source": [
    "is_anagram('nnba','anna')"
   ]
  },
  {
   "cell_type": "code",
   "execution_count": 12,
   "metadata": {},
   "outputs": [
    {
     "data": {
      "text/plain": [
       "True"
      ]
     },
     "execution_count": 12,
     "metadata": {},
     "output_type": "execute_result"
    }
   ],
   "source": [
    "is_anagram('anna','naan')"
   ]
  },
  {
   "cell_type": "code",
   "execution_count": null,
   "metadata": {},
   "outputs": [],
   "source": []
  },
  {
   "cell_type": "markdown",
   "metadata": {},
   "source": [
    "# TMA01 Q1 C (i)"
   ]
  },
  {
   "cell_type": "code",
   "execution_count": 17,
   "metadata": {
    "scrolled": false
   },
   "outputs": [],
   "source": [
    "# *Write your code solution here*\n",
    "def count_sub_strings(substring: str, main_string: str) -> bool:\n",
    "    container = [None] * len(substring)\n",
    "    occurrence = 0\n",
    "    item = len(container)\n",
    "    for index in range(len(main_string)):\n",
    "        container[len(item)-1] = index:\n",
    "            \n",
    "\n",
    "\n",
    "# Tests\n",
    "%run -i m269_util\n",
    "test_table = [\n",
    " ['None','abc','def',0],\n",
    " ['One','abc','xabcx',1],\n",
    " ['Two','abc','xabcxabc',2]\n",
    "]\n",
    "test(count_sub_strings, test_table)\n"
   ]
  },
  {
   "cell_type": "code",
   "execution_count": 355,
   "metadata": {
    "scrolled": false
   },
   "outputs": [],
   "source": [
    "# *Write your code solution here*\n",
    "\n",
    "def count_sub_strings(substring: str, main_string: str) -> bool:\n",
    "    main_len = len(main_string)\n",
    "    sub_len = len(substring)\n",
    "    occurrence = 0\n",
    "    for i in range(main_len):\n",
    "        if main_string[i:i + sub_len] == substring:\n",
    "            occurrence += 1\n",
    "            \n",
    "    return(occurrence)"
   ]
  },
  {
   "cell_type": "code",
   "execution_count": 383,
   "metadata": {
    "scrolled": true
   },
   "outputs": [
    {
     "data": {
      "text/plain": [
       "2"
      ]
     },
     "execution_count": 383,
     "metadata": {},
     "output_type": "execute_result"
    }
   ],
   "source": [
    "count_sub_strings('abc','xabcxabc')"
   ]
  },
  {
   "cell_type": "code",
   "execution_count": 380,
   "metadata": {},
   "outputs": [
    {
     "name": "stdout",
     "output_type": "stream",
     "text": [
      "['R', 'A', 'N', 'S', 'I', 'N']\n",
      "['L', 'I', 'R']\n",
      "['I', 'R', 'A']\n",
      "['R', 'A', 'N']\n",
      "['A', 'N', 'S']\n"
     ]
    }
   ],
   "source": [
    "test_list = ['L', 'I', 'R', 'A', 'N', 'S', 'I', 'N', 'D', 'E', 'L']\n",
    "print(test_list[2:-3])\n",
    "print(test_list[0:0+3])\n",
    "print(test_list[1:1+3])\n",
    "print(test_list[2:2+3])\n",
    "print(test_list[3:3+3])"
   ]
  },
  {
   "cell_type": "code",
   "execution_count": 346,
   "metadata": {
    "scrolled": false
   },
   "outputs": [
    {
     "name": "stdout",
     "output_type": "stream",
     "text": [
      "2\n",
      "abababa\n",
      "7\n",
      "7\n",
      "bab\n",
      "3\n",
      "3\n"
     ]
    }
   ],
   "source": [
    "main_string = 'abababa'\n",
    "substring = 'bab'\n",
    "\n",
    "main_len = len(main_string)\n",
    "sub_len = len(substring)\n",
    "occurrence = 0\n",
    "\n",
    "for i in range(main_len - sub_len):\n",
    "    if main_string[i:i + sub_len] == substring:\n",
    "        occurrence += 1\n",
    "            \n",
    "\n",
    "print(occurrence)\n",
    "print(main_string)\n",
    "print(len(main_string))\n",
    "print(main_len)\n",
    "print(substring)\n",
    "print(len(substring))\n",
    "print(sub_len)"
   ]
  },
  {
   "cell_type": "code",
   "execution_count": 322,
   "metadata": {},
   "outputs": [
    {
     "name": "stdout",
     "output_type": "stream",
     "text": [
      "0\n"
     ]
    }
   ],
   "source": [
    "myStr = \"aa.\"\n",
    "substring = \"bab\"\n",
    "str_len = len(myStr)\n",
    "sub_len = len(substring)\n",
    "c = 0\n",
    "for i in range(str_len - sub_len):\n",
    "    if myStr[i:i + sub_len] == substring:\n",
    "\n",
    "        c += 1\n",
    "print(c)\n"
   ]
  },
  {
   "cell_type": "code",
   "execution_count": 309,
   "metadata": {},
   "outputs": [
    {
     "name": "stdout",
     "output_type": "stream",
     "text": [
      "[None, None, None]\n",
      "bab\n",
      "['bab']\n",
      "bab\n"
     ]
    }
   ],
   "source": [
    "letter = 'bab'\n",
    "lists = [None] * len(letter)\n",
    "letter_2 = [letter]\n",
    "print(lists)\n",
    "print(letter)\n",
    "print(letter_2)\n",
    "print(''.join(letter_2))"
   ]
  },
  {
   "cell_type": "code",
   "execution_count": 310,
   "metadata": {
    "scrolled": true
   },
   "outputs": [
    {
     "ename": "TypeError",
     "evalue": "sequence item 1: expected str instance, NoneType found",
     "output_type": "error",
     "traceback": [
      "\u001b[0;31m---------------------------------------------------------------------------\u001b[0m",
      "\u001b[0;31mTypeError\u001b[0m                                 Traceback (most recent call last)",
      "\u001b[0;32m<ipython-input-310-0c88df7733e4>\u001b[0m in \u001b[0;36m<module>\u001b[0;34m\u001b[0m\n\u001b[1;32m     10\u001b[0m         \u001b[0mitem\u001b[0m \u001b[0;34m=\u001b[0m \u001b[0mlen\u001b[0m\u001b[0;34m(\u001b[0m\u001b[0mlists\u001b[0m\u001b[0;34m)\u001b[0m\u001b[0;34m-\u001b[0m\u001b[0;36m1\u001b[0m\u001b[0;34m\u001b[0m\u001b[0;34m\u001b[0m\u001b[0m\n\u001b[1;32m     11\u001b[0m     \u001b[0;32mif\u001b[0m \u001b[0mitem\u001b[0m \u001b[0;34m>=\u001b[0m \u001b[0;36m0\u001b[0m\u001b[0;34m:\u001b[0m\u001b[0;34m\u001b[0m\u001b[0;34m\u001b[0m\u001b[0m\n\u001b[0;32m---> 12\u001b[0;31m         \u001b[0mtemp_2\u001b[0m \u001b[0;34m=\u001b[0m \u001b[0;34m''\u001b[0m\u001b[0;34m.\u001b[0m\u001b[0mjoin\u001b[0m\u001b[0;34m(\u001b[0m\u001b[0mlists\u001b[0m\u001b[0;34m)\u001b[0m\u001b[0;34m\u001b[0m\u001b[0;34m\u001b[0m\u001b[0m\n\u001b[0m\u001b[1;32m     13\u001b[0m         \u001b[0;32mif\u001b[0m \u001b[0mtemp_2\u001b[0m \u001b[0;34m==\u001b[0m \u001b[0mletter\u001b[0m\u001b[0;34m:\u001b[0m\u001b[0;34m\u001b[0m\u001b[0;34m\u001b[0m\u001b[0m\n\u001b[1;32m     14\u001b[0m             \u001b[0moccurrence\u001b[0m \u001b[0;34m+=\u001b[0m \u001b[0;36m1\u001b[0m\u001b[0;34m\u001b[0m\u001b[0;34m\u001b[0m\u001b[0m\n",
      "\u001b[0;31mTypeError\u001b[0m: sequence item 1: expected str instance, NoneType found"
     ]
    }
   ],
   "source": [
    "list(letter)\n",
    "temp_2 = None\n",
    "main = 'babbaba'\n",
    "list(main)\n",
    "occurrence = 0\n",
    "item = len(lists)-1\n",
    "for index in range(len(main)):\n",
    "    lists[item-(len(lists)-1)] = main[index]\n",
    "    if item <= 0:\n",
    "        item = len(lists)-1\n",
    "    if item >= 0:\n",
    "        temp_2 = ''.join(lists)\n",
    "        if temp_2 == letter:\n",
    "            occurrence += 1\n",
    "    \n",
    "    \n",
    "\n",
    "    \n",
    "  \n",
    "\n",
    "print(temp_2)\n",
    "print(occurrence)"
   ]
  },
  {
   "cell_type": "code",
   "execution_count": 242,
   "metadata": {
    "scrolled": false
   },
   "outputs": [
    {
     "ename": "SyntaxError",
     "evalue": "cannot assign to function call (<ipython-input-242-2f03dabd7017>, line 5)",
     "output_type": "error",
     "traceback": [
      "\u001b[0;36m  File \u001b[0;32m\"<ipython-input-242-2f03dabd7017>\"\u001b[0;36m, line \u001b[0;32m5\u001b[0m\n\u001b[0;31m    for str(word) in range(len(main)):\u001b[0m\n\u001b[0m        ^\u001b[0m\n\u001b[0;31mSyntaxError\u001b[0m\u001b[0;31m:\u001b[0m cannot assign to function call\n"
     ]
    }
   ],
   "source": [
    "word = 'bab'\n",
    "bank =''\n",
    "main = 'lbcbaba'\n",
    "occurrence = 0\n",
    "for i in range(len(main)):\n",
    "    bank += main[i]\n",
    "    if len(bank) == len(word):\n",
    "        if bank == word:\n",
    "            occurrence += 1\n",
    "        if bank != word:\n",
    "    \n",
    "    \n",
    "\n",
    "    \n",
    "  \n",
    "\n",
    "print(str(occurrence))"
   ]
  },
  {
   "cell_type": "code",
   "execution_count": 313,
   "metadata": {},
   "outputs": [
    {
     "name": "stdout",
     "output_type": "stream",
     "text": [
      "thisisasentence\n",
      "['this', 'is', 'a', 'sentence']\n",
      "thisisasentence\n"
     ]
    }
   ],
   "source": [
    "words = ['this', 'is', 'a', 'sentence']\n",
    "\n",
    "temp = ''.join(words)\n",
    "print(''.join(words))\n",
    "print(words)\n",
    "print(temp)"
   ]
  },
  {
   "cell_type": "code",
   "execution_count": 314,
   "metadata": {},
   "outputs": [
    {
     "name": "stdout",
     "output_type": "stream",
     "text": [
      "true\n"
     ]
    }
   ],
   "source": [
    "string_1 = 'hi'\n",
    "string_2 = 'hi'\n",
    "if string_1 == string_2:\n",
    "    print('true')\n",
    "if string_1 != string_2:\n",
    "    print('false')"
   ]
  },
  {
   "cell_type": "code",
   "execution_count": 245,
   "metadata": {},
   "outputs": [
    {
     "name": "stdout",
     "output_type": "stream",
     "text": [
      "false\n"
     ]
    }
   ],
   "source": [
    "list_1 = ['h', 'hello']\n",
    "list_2 = ['hi', 'hello']\n",
    "if list_1 == list_2:\n",
    "    print('true')\n",
    "if list_1 != list_2:\n",
    "    print('false')"
   ]
  },
  {
   "cell_type": "code",
   "execution_count": null,
   "metadata": {},
   "outputs": [],
   "source": []
  },
  {
   "cell_type": "code",
   "execution_count": 186,
   "metadata": {},
   "outputs": [],
   "source": [
    "count = len(letter)\n",
    "\n",
    "for number in range(count):\n",
    "    lists.insert((count-1), lists.pop(count-1))\n",
    "    count = count-1\n"
   ]
  },
  {
   "cell_type": "code",
   "execution_count": 147,
   "metadata": {},
   "outputs": [
    {
     "name": "stdout",
     "output_type": "stream",
     "text": [
      "[None, None, None, 'hi']\n"
     ]
    }
   ],
   "source": [
    "print(lists)"
   ]
  },
  {
   "cell_type": "code",
   "execution_count": 5,
   "metadata": {},
   "outputs": [],
   "source": [
    "class StaticArray:\n",
    "    \"\"\"A fixed-length sequence of references in contiguous memory.\"\"\"\n",
    "\n",
    "    def __init__(self, length: int):\n",
    "        \"\"\"Create an array of the given length.\n",
    "\n",
    "        Preconditions: length >= 0\n",
    "        Postconditions: every item in the array is None\n",
    "        \"\"\"\n",
    "        # assume lists are stored in arrays\n",
    "        self.items = [None] * length\n",
    "\n",
    "    def length(self) -> int:\n",
    "        \"\"\"Return the length of the array.\"\"\"\n",
    "        return len(self.items)\n",
    "\n",
    "    def get_item(self, index: int) -> object:\n",
    "        \"\"\"Return the item at the given index.\n",
    "\n",
    "        Preconditions: 0 <= index < self.length()\n",
    "        \"\"\"\n",
    "        return self.items[index]\n",
    "\n",
    "    def set_item(self, index: int, item: object) -> None:\n",
    "        \"\"\"Replace the item at the given index with the given item.\n",
    "\n",
    "        Preconditions: 0 <= index < self.length()\n",
    "        Postconditions: self.get_item(index) == item\n",
    "        \"\"\"\n",
    "        self.items[index] = item\n",
    "\n",
    "    def __str__(self) -> str:\n",
    "        \"\"\"Return a string representation of the array.\"\"\"\n",
    "        return str(self.items)"
   ]
  },
  {
   "cell_type": "code",
   "execution_count": 70,
   "metadata": {},
   "outputs": [],
   "source": [
    "test_1 = StaticArray(3)"
   ]
  },
  {
   "cell_type": "code",
   "execution_count": 71,
   "metadata": {},
   "outputs": [
    {
     "name": "stdout",
     "output_type": "stream",
     "text": [
      "[None, None, None]\n"
     ]
    }
   ],
   "source": [
    "print(test_1)"
   ]
  },
  {
   "cell_type": "code",
   "execution_count": 73,
   "metadata": {},
   "outputs": [
    {
     "name": "stdout",
     "output_type": "stream",
     "text": [
      "3\n"
     ]
    }
   ],
   "source": [
    "print(test_1.length())"
   ]
  },
  {
   "cell_type": "code",
   "execution_count": 78,
   "metadata": {},
   "outputs": [
    {
     "name": "stdout",
     "output_type": "stream",
     "text": [
      "None\n"
     ]
    }
   ],
   "source": [
    "print(test_1.get_item(0))"
   ]
  },
  {
   "cell_type": "code",
   "execution_count": 79,
   "metadata": {
    "scrolled": true
   },
   "outputs": [
    {
     "name": "stdout",
     "output_type": "stream",
     "text": [
      "None\n"
     ]
    }
   ],
   "source": [
    "print(test_1.set_item(0,test_1))"
   ]
  },
  {
   "cell_type": "code",
   "execution_count": null,
   "metadata": {},
   "outputs": [],
   "source": []
  },
  {
   "cell_type": "markdown",
   "metadata": {},
   "source": [
    "# TMA01 Q1 D (i)"
   ]
  },
  {
   "cell_type": "code",
   "execution_count": 390,
   "metadata": {},
   "outputs": [
    {
     "name": "stdout",
     "output_type": "stream",
     "text": [
      "Generation 0\n",
      "[ ][ ][ ][ ][ ][@][ ]\n",
      "[ ][ ][ ][ ][ ][@][ ]\n",
      "[@][ ][ ][ ][ ][ ][@]\n",
      "[ ][@][ ][ ][ ][@][ ]\n",
      "[@][@][ ][@][ ][ ][ ]\n",
      "Generation 1\n",
      "[ ][ ][ ][ ][ ][ ][ ]\n",
      "[ ][ ][ ][ ][ ][@][@]\n",
      "[ ][ ][ ][ ][ ][@][@]\n",
      "[ ][@][@][ ][ ][ ][ ]\n",
      "[@][@][@][ ][ ][ ][ ]\n",
      "Generation 2\n",
      "[ ][ ][ ][ ][ ][ ][ ]\n",
      "[ ][ ][ ][ ][ ][@][@]\n",
      "[ ][ ][ ][ ][ ][@][@]\n",
      "[@][ ][@][ ][ ][ ][ ]\n",
      "[@][ ][@][ ][ ][ ][ ]\n",
      "Generation 3\n",
      "[ ][ ][ ][ ][ ][ ][ ]\n",
      "[ ][ ][ ][ ][ ][@][@]\n",
      "[ ][ ][ ][ ][ ][@][@]\n",
      "[ ][ ][ ][ ][ ][ ][ ]\n",
      "[ ][ ][ ][ ][ ][ ][ ]\n",
      "Generation 4\n",
      "[ ][ ][ ][ ][ ][ ][ ]\n",
      "[ ][ ][ ][ ][ ][@][@]\n",
      "[ ][ ][ ][ ][ ][@][@]\n",
      "[ ][ ][ ][ ][ ][ ][ ]\n",
      "[ ][ ][ ][ ][ ][ ][ ]\n",
      "Generation 5\n",
      "[ ][ ][ ][ ][ ][ ][ ]\n",
      "[ ][ ][ ][ ][ ][@][@]\n",
      "[ ][ ][ ][ ][ ][@][@]\n",
      "[ ][ ][ ][ ][ ][ ][ ]\n",
      "[ ][ ][ ][ ][ ][ ][ ]\n",
      "Generation 6\n",
      "[ ][ ][ ][ ][ ][ ][ ]\n",
      "[ ][ ][ ][ ][ ][@][@]\n",
      "[ ][ ][ ][ ][ ][@][@]\n",
      "[ ][ ][ ][ ][ ][ ][ ]\n",
      "[ ][ ][ ][ ][ ][ ][ ]\n",
      "Generation 7\n",
      "[ ][ ][ ][ ][ ][ ][ ]\n",
      "[ ][ ][ ][ ][ ][@][@]\n",
      "[ ][ ][ ][ ][ ][@][@]\n",
      "[ ][ ][ ][ ][ ][ ][ ]\n",
      "[ ][ ][ ][ ][ ][ ][ ]\n",
      "Generation 8\n",
      "[ ][ ][ ][ ][ ][ ][ ]\n",
      "[ ][ ][ ][ ][ ][@][@]\n",
      "[ ][ ][ ][ ][ ][@][@]\n",
      "[ ][ ][ ][ ][ ][ ][ ]\n",
      "[ ][ ][ ][ ][ ][ ][ ]\n",
      "Generation 9\n",
      "[ ][ ][ ][ ][ ][ ][ ]\n",
      "[ ][ ][ ][ ][ ][@][@]\n",
      "[ ][ ][ ][ ][ ][@][@]\n",
      "[ ][ ][ ][ ][ ][ ][ ]\n",
      "[ ][ ][ ][ ][ ][ ][ ]\n"
     ]
    }
   ],
   "source": [
    "# Note: comment blocks left out to save space\n",
    "def print_grid(grid: list) -> None:\n",
    "    for row in grid:\n",
    "        for cell in row:\n",
    "            print('[' + cell + ']', end='')\n",
    "        print()\n",
    "def get_neighbours(grid: list, row: int, col: int) -> int:\n",
    "    num_neighbours = 0\n",
    " # above row\n",
    "    if row > 0: # check above\n",
    "        if col != 0: # check left above\n",
    "            if grid[row-1][col-1] == '@':\n",
    "                num_neighbours += 1\n",
    "        if grid[row-1][col] == '@': # check direcly above\n",
    "            num_neighbours += 1\n",
    "        if col != len(grid[row])-1: # check right above\n",
    "            if grid[row-1][col+1] == '@':\n",
    "                num_neighbours += 1\n",
    "    if col != 0: # check left\n",
    "        if grid[row][col-1] == '@':\n",
    "            num_neighbours += 1\n",
    "    if col != len(grid[row])-1: # check right\n",
    "        if grid[row][col+1] == '@':\n",
    "            num_neighbours += 1\n",
    " # below row\n",
    "    if row < len(grid)-1: # check below\n",
    "        if col != 0: # check left below\n",
    "            if grid[row+1][col-1] == '@':\n",
    "                num_neighbours += 1\n",
    "        if grid[row+1][col] == '@': # check direcly below\n",
    "            num_neighbours += 1\n",
    "        if col != len(grid[row])-1: # check right below\n",
    "            if grid[row+1][col+1] == '@':\n",
    "                num_neighbours += 1\n",
    "    return num_neighbours\n",
    "\n",
    "def calculate_next_grid(old_grid: list, num_rows: int, num_cols: int) -> list:\n",
    "    new_grid = []\n",
    "    for row_index in range(num_rows):\n",
    "        new_row = []\n",
    "        for col_index in range(num_cols):\n",
    "            num_neighbours = get_neighbours(old_grid, row_index, col_index)\n",
    "            current_cell = old_grid[row_index][col_index]\n",
    "            if current_cell == '@':\n",
    "                if num_neighbours == 2 or num_neighbours == 3:\n",
    "                    new_row.append('@')\n",
    "                else:\n",
    "                    new_row.append(' ')\n",
    "            else:\n",
    "                if num_neighbours == 3:\n",
    "                    new_row.append('@')\n",
    "                else:\n",
    "                    new_row.append(' ')\n",
    "        new_grid.append(new_row)\n",
    "    return new_grid\n",
    "\n",
    "def make_grid(rows:int, cols:int) -> list:\n",
    "    import random\n",
    "    grid = []\n",
    "    for row in range(rows):\n",
    "        new_row = []\n",
    "        for col in range(cols):\n",
    "            chance = random.randint(0, 3)\n",
    "            if chance == 1:\n",
    "                new_row.append('@')\n",
    "            else:\n",
    "                new_row.append(' ')\n",
    "        grid.append(new_row)\n",
    "    return grid\n",
    "\n",
    "def run_program(generations: int, num_rows: int, num_cols: int) -> None:\n",
    "    grid = make_grid(num_rows, num_cols)\n",
    "    current_generation = 0\n",
    "    while current_generation < generations:\n",
    "        print('Generation', current_generation)\n",
    "        print_grid(grid)\n",
    "        grid = calculate_next_grid(grid, num_rows, num_cols)\n",
    "        current_generation += 1\n",
    "        \n",
    "        \n",
    "run_program(10, 5, 7)"
   ]
  },
  {
   "cell_type": "code",
   "execution_count": 388,
   "metadata": {},
   "outputs": [
    {
     "ename": "FileNotFoundError",
     "evalue": "[Errno 2] No such file or directory: '../cover.jpg'",
     "output_type": "error",
     "traceback": [
      "\u001b[0;31m---------------------------------------------------------------------------\u001b[0m",
      "\u001b[0;31mFileNotFoundError\u001b[0m                         Traceback (most recent call last)",
      "\u001b[0;32m<ipython-input-388-3e2c65ea2477>\u001b[0m in \u001b[0;36m<module>\u001b[0;34m\u001b[0m\n\u001b[0;32m----> 1\u001b[0;31m \u001b[0mcover\u001b[0m \u001b[0;34m=\u001b[0m \u001b[0mload_image\u001b[0m\u001b[0;34m(\u001b[0m\u001b[0;34m'../cover.jpg'\u001b[0m\u001b[0;34m)\u001b[0m\u001b[0;34m\u001b[0m\u001b[0;34m\u001b[0m\u001b[0m\n\u001b[0m\u001b[1;32m      2\u001b[0m \u001b[0mprint\u001b[0m\u001b[0;34m(\u001b[0m\u001b[0;34m'Image has'\u001b[0m\u001b[0;34m,\u001b[0m \u001b[0mwidth\u001b[0m\u001b[0;34m(\u001b[0m\u001b[0mcover\u001b[0m\u001b[0;34m)\u001b[0m\u001b[0;34m,\u001b[0m \u001b[0;34m'x'\u001b[0m\u001b[0;34m,\u001b[0m \u001b[0mheight\u001b[0m\u001b[0;34m(\u001b[0m\u001b[0mcover\u001b[0m\u001b[0;34m)\u001b[0m\u001b[0;34m,\u001b[0m \u001b[0;34m'pixels.'\u001b[0m\u001b[0;34m)\u001b[0m\u001b[0;34m\u001b[0m\u001b[0;34m\u001b[0m\u001b[0m\n\u001b[1;32m      3\u001b[0m \u001b[0mshow_image\u001b[0m\u001b[0;34m(\u001b[0m\u001b[0mcover\u001b[0m\u001b[0;34m)\u001b[0m\u001b[0;34m\u001b[0m\u001b[0;34m\u001b[0m\u001b[0m\n",
      "\u001b[0;32m<ipython-input-386-5bd918c91e0e>\u001b[0m in \u001b[0;36mload_image\u001b[0;34m(filename)\u001b[0m\n\u001b[1;32m     35\u001b[0m     \u001b[0mrepresenting\u001b[0m \u001b[0mthe\u001b[0m \u001b[0mred\u001b[0m\u001b[0;34m-\u001b[0m\u001b[0mgreen\u001b[0m\u001b[0;34m-\u001b[0m\u001b[0mblue\u001b[0m \u001b[0mcomponents\u001b[0m \u001b[0mof\u001b[0m \u001b[0mthe\u001b[0m \u001b[0mpixel\u001b[0m\u001b[0;34m.\u001b[0m\u001b[0;34m\u001b[0m\u001b[0;34m\u001b[0m\u001b[0m\n\u001b[1;32m     36\u001b[0m     \"\"\"\n\u001b[0;32m---> 37\u001b[0;31m     \u001b[0mimage\u001b[0m \u001b[0;34m=\u001b[0m \u001b[0mImage\u001b[0m\u001b[0;34m.\u001b[0m\u001b[0mopen\u001b[0m\u001b[0;34m(\u001b[0m\u001b[0mfilename\u001b[0m\u001b[0;34m)\u001b[0m\u001b[0;34m\u001b[0m\u001b[0;34m\u001b[0m\u001b[0m\n\u001b[0m\u001b[1;32m     38\u001b[0m     \u001b[0mpixels\u001b[0m \u001b[0;34m=\u001b[0m \u001b[0;34m[\u001b[0m\u001b[0;34m]\u001b[0m\u001b[0;34m\u001b[0m\u001b[0;34m\u001b[0m\u001b[0m\n\u001b[1;32m     39\u001b[0m     \u001b[0;32mfor\u001b[0m \u001b[0mrow\u001b[0m \u001b[0;32min\u001b[0m \u001b[0mrange\u001b[0m\u001b[0;34m(\u001b[0m\u001b[0mimage\u001b[0m\u001b[0;34m.\u001b[0m\u001b[0mheight\u001b[0m\u001b[0;34m)\u001b[0m\u001b[0;34m:\u001b[0m\u001b[0;34m\u001b[0m\u001b[0;34m\u001b[0m\u001b[0m\n",
      "\u001b[0;32m/opt/conda/lib/python3.8/site-packages/PIL/Image.py\u001b[0m in \u001b[0;36mopen\u001b[0;34m(fp, mode, formats)\u001b[0m\n\u001b[1;32m   2966\u001b[0m \u001b[0;34m\u001b[0m\u001b[0m\n\u001b[1;32m   2967\u001b[0m     \u001b[0;32mif\u001b[0m \u001b[0mfilename\u001b[0m\u001b[0;34m:\u001b[0m\u001b[0;34m\u001b[0m\u001b[0;34m\u001b[0m\u001b[0m\n\u001b[0;32m-> 2968\u001b[0;31m         \u001b[0mfp\u001b[0m \u001b[0;34m=\u001b[0m \u001b[0mbuiltins\u001b[0m\u001b[0;34m.\u001b[0m\u001b[0mopen\u001b[0m\u001b[0;34m(\u001b[0m\u001b[0mfilename\u001b[0m\u001b[0;34m,\u001b[0m \u001b[0;34m\"rb\"\u001b[0m\u001b[0;34m)\u001b[0m\u001b[0;34m\u001b[0m\u001b[0;34m\u001b[0m\u001b[0m\n\u001b[0m\u001b[1;32m   2969\u001b[0m         \u001b[0mexclusive_fp\u001b[0m \u001b[0;34m=\u001b[0m \u001b[0;32mTrue\u001b[0m\u001b[0;34m\u001b[0m\u001b[0;34m\u001b[0m\u001b[0m\n\u001b[1;32m   2970\u001b[0m \u001b[0;34m\u001b[0m\u001b[0m\n",
      "\u001b[0;31mFileNotFoundError\u001b[0m: [Errno 2] No such file or directory: '../cover.jpg'"
     ]
    }
   ],
   "source": [
    "\n",
    "\n",
    "cover = load_image('../cover.jpg')\n",
    "print('Image has', width(cover), 'x', height(cover), 'pixels.')\n",
    "show_image(cover)"
   ]
  },
  {
   "cell_type": "code",
   "execution_count": null,
   "metadata": {},
   "outputs": [],
   "source": []
  },
  {
   "cell_type": "markdown",
   "metadata": {},
   "source": [
    "## TMA01 Q2 A"
   ]
  },
  {
   "cell_type": "code",
   "execution_count": 311,
   "metadata": {},
   "outputs": [],
   "source": [
    "from collections import Counter\n",
    "# Note that this implementation differs from the queues in the book!\n",
    "# DO NOT edit this code.\n",
    "class LWPriorityQueue:\n",
    "    \"\"\"A dynamic array implementation of a max-priority queue.\n",
    "    Items with the same priority are retrieved in FIFO order.\n",
    "    Items are stored as dictionaries.\n",
    "    \"\"\"\n",
    "    def __init__(self):\n",
    "        \"\"\"Create a new empty queue.\"\"\"\n",
    "        self.items = [] # in ascending order\n",
    "        self.counting = []\n",
    "    def length(self) -> int:\n",
    "        \"\"\"Return the number of items in the queue.\"\"\"\n",
    "        return len(self.items)\n",
    "    def find_max(self) -> int:\n",
    "        \"\"\"Return index of the oldest item with the highest priority.\"\"\"\n",
    "        if self.length() == 0:\n",
    "            return -1\n",
    "        max_priority = 0\n",
    "        oldest_item = 0\n",
    "        for index in range(self.length()):\n",
    "            if self.items[index]['priority'] >= max_priority:\n",
    "                max_priority = self.items[index]['priority']\n",
    "                oldest_item = index\n",
    "        return oldest_item\n",
    "    def remove_max(self) -> None:\n",
    "        \"\"\"Remove the oldest item with the highest priority.\"\"\"\n",
    "        if self.length() > 0:\n",
    "            item_to_remove = self.find_max()\n",
    "            self.items.pop(item_to_remove)\n",
    "    def get_max(self) -> dict:\n",
    "        \"\"\"Returns the dictionary of the oldest item with the highest priority,\n",
    "        or an empty dictionary.\"\"\"\n",
    "        index = self.find_max()\n",
    "        if index == -1:\n",
    "            return {}\n",
    "        else:\n",
    "            return self.items[index]\n",
    "    def bump(self, customer: str) -> None:\n",
    "        \"\"\"Increases by one the priority of all items\n",
    "        attributed to the specified customer.\"\"\"\n",
    "        for index in range(self.length()):\n",
    "            if self.items[index]['customer'] == customer:\n",
    "                self.items[index]['priority'] += 1\n",
    "    def insert(self, priority: int, task: str, customer: str, complete_time: int):\n",
    "        \"\"\"Add item with the given priority to the queue.\"\"\"\n",
    "        item = {\n",
    "            'priority': priority,\n",
    "            'task': task,\n",
    "            'customer': customer,\n",
    "            'complete_time': complete_time\n",
    "        }\n",
    "        self.items.append(item)\n",
    "        self.p = priority\n",
    "        self.counting.append(self.p)\n",
    "    \n",
    "    def print_queue(self) -> None:\n",
    "        \"\"\" Prints the current state of the priority queue.\"\"\"\n",
    "        print('[')\n",
    "        for item in self.items:\n",
    "             print(' ', item)\n",
    "        print(']')\n"
   ]
  },
  {
   "cell_type": "code",
   "execution_count": 312,
   "metadata": {
    "scrolled": true
   },
   "outputs": [],
   "source": [
    "JoList = LWPriorityQueue()\n",
    "JoList.insert(1,'belt','stock',45)\n",
    "JoList.insert(1, 'belt','stock',45)\n",
    "JoList.insert(2, 'custom wallet','Erich',90)\n",
    "JoList.insert(1, 'belt','stock',60)\n",
    "\n"
   ]
  },
  {
   "cell_type": "code",
   "execution_count": 313,
   "metadata": {},
   "outputs": [
    {
     "name": "stdout",
     "output_type": "stream",
     "text": [
      "[\n",
      "  {'priority': 1, 'task': 'belt', 'customer': 'stock', 'complete_time': 45}\n",
      "  {'priority': 1, 'task': 'belt', 'customer': 'stock', 'complete_time': 45}\n",
      "  {'priority': 2, 'task': 'custom wallet', 'customer': 'Erich', 'complete_time': 90}\n",
      "  {'priority': 1, 'task': 'belt', 'customer': 'stock', 'complete_time': 60}\n",
      "]\n"
     ]
    }
   ],
   "source": [
    "JoList.print_queue()"
   ]
  },
  {
   "cell_type": "code",
   "execution_count": 304,
   "metadata": {},
   "outputs": [
    {
     "name": "stdout",
     "output_type": "stream",
     "text": [
      "<class 'collections.Counter'>\n"
     ]
    }
   ],
   "source": [
    "JoList.count_priorities()\n",
    "            \n",
    "    "
   ]
  },
  {
   "cell_type": "code",
   "execution_count": 102,
   "metadata": {},
   "outputs": [
    {
     "data": {
      "text/plain": [
       "Counter({1: 3, 2: 1})"
      ]
     },
     "execution_count": 102,
     "metadata": {},
     "output_type": "execute_result"
    }
   ],
   "source": [
    "test =[]\n",
    "test.append(1)\n",
    "test.append(1)\n",
    "test.append(2)\n",
    "test.append(1)\n",
    "Counter(test)"
   ]
  },
  {
   "cell_type": "code",
   "execution_count": 208,
   "metadata": {},
   "outputs": [
    {
     "ename": "SyntaxError",
     "evalue": "invalid syntax (<ipython-input-208-2fecde5a0788>, line 2)",
     "output_type": "error",
     "traceback": [
      "\u001b[0;36m  File \u001b[0;32m\"<ipython-input-208-2fecde5a0788>\"\u001b[0;36m, line \u001b[0;32m2\u001b[0m\n\u001b[0;31m    list1[0{2}]\u001b[0m\n\u001b[0m           ^\u001b[0m\n\u001b[0;31mSyntaxError\u001b[0m\u001b[0;31m:\u001b[0m invalid syntax\n"
     ]
    }
   ],
   "source": [
    "list1 = [{10,13,17},{3,5,1}]\n",
    "list1[0]"
   ]
  },
  {
   "cell_type": "code",
   "execution_count": 96,
   "metadata": {},
   "outputs": [
    {
     "ename": "IndentationError",
     "evalue": "expected an indented block (<ipython-input-96-313638f6ae0e>, line 5)",
     "output_type": "error",
     "traceback": [
      "\u001b[0;36m  File \u001b[0;32m\"<ipython-input-96-313638f6ae0e>\"\u001b[0;36m, line \u001b[0;32m5\u001b[0m\n\u001b[0;31m    int(a[0])\u001b[0m\n\u001b[0m             ^\u001b[0m\n\u001b[0;31mIndentationError\u001b[0m\u001b[0;31m:\u001b[0m expected an indented block\n"
     ]
    }
   ],
   "source": [
    "y = [{'vegas','London'},{'US','UK'}]\n",
    "\n",
    "for x in y:\n",
    "    for a in x:\n",
    "        print(a[0])"
   ]
  },
  {
   "cell_type": "code",
   "execution_count": 124,
   "metadata": {},
   "outputs": [
    {
     "ename": "TypeError",
     "evalue": "'list' object cannot be interpreted as an integer",
     "output_type": "error",
     "traceback": [
      "\u001b[0;31m---------------------------------------------------------------------------\u001b[0m",
      "\u001b[0;31mTypeError\u001b[0m                                 Traceback (most recent call last)",
      "\u001b[0;32m<ipython-input-124-813e0ef6f880>\u001b[0m in \u001b[0;36m<module>\u001b[0;34m\u001b[0m\n\u001b[1;32m      1\u001b[0m \u001b[0my\u001b[0m \u001b[0;34m=\u001b[0m \u001b[0;34m[\u001b[0m\u001b[0;34m{\u001b[0m\u001b[0;34m'2'\u001b[0m\u001b[0;34m,\u001b[0m\u001b[0;34m'London'\u001b[0m\u001b[0;34m}\u001b[0m\u001b[0;34m,\u001b[0m\u001b[0;34m{\u001b[0m\u001b[0;36m4\u001b[0m\u001b[0;34m,\u001b[0m\u001b[0;34m'UK'\u001b[0m\u001b[0;34m}\u001b[0m\u001b[0;34m]\u001b[0m\u001b[0;34m;\u001b[0m\u001b[0;34m\u001b[0m\u001b[0;34m\u001b[0m\u001b[0m\n\u001b[1;32m      2\u001b[0m \u001b[0mz\u001b[0m \u001b[0;34m=\u001b[0m\u001b[0;34m[\u001b[0m\u001b[0;34m]\u001b[0m\u001b[0;34m;\u001b[0m\u001b[0;34m\u001b[0m\u001b[0;34m\u001b[0m\u001b[0m\n\u001b[0;32m----> 3\u001b[0;31m \u001b[0;32mfor\u001b[0m \u001b[0mint\u001b[0m  \u001b[0;32min\u001b[0m \u001b[0mrange\u001b[0m\u001b[0;34m(\u001b[0m\u001b[0my\u001b[0m\u001b[0;34m)\u001b[0m\u001b[0;34m:\u001b[0m\u001b[0;34m\u001b[0m\u001b[0;34m\u001b[0m\u001b[0m\n\u001b[0m\u001b[1;32m      4\u001b[0m     \u001b[0;32mif\u001b[0m \u001b[0;36m0\u001b[0m  \u001b[0;34m==\u001b[0m \u001b[0my\u001b[0m\u001b[0;34m[\u001b[0m\u001b[0;36m0\u001b[0m\u001b[0;34m]\u001b[0m\u001b[0;34m:\u001b[0m\u001b[0;34m\u001b[0m\u001b[0;34m\u001b[0m\u001b[0m\n\u001b[1;32m      5\u001b[0m         \u001b[0mz\u001b[0m\u001b[0;34m.\u001b[0m\u001b[0mappend\u001b[0m\u001b[0;34m(\u001b[0m\u001b[0mint\u001b[0m\u001b[0;34m(\u001b[0m\u001b[0mn\u001b[0m\u001b[0;34m)\u001b[0m\u001b[0;34m)\u001b[0m\u001b[0;34m;\u001b[0m\u001b[0;34m\u001b[0m\u001b[0;34m\u001b[0m\u001b[0m\n",
      "\u001b[0;31mTypeError\u001b[0m: 'list' object cannot be interpreted as an integer"
     ]
    }
   ],
   "source": [
    "y = [{'2','London'},{4,'UK'}];\n",
    "z =[];\n",
    "for int  in range(y):\n",
    "    if 0  == y[0]:\n",
    "        z.append(int(n));\n",
    "    \n",
    "    \n",
    "    \n",
    "y = z;    \n",
    "        \n",
    "print(y)        "
   ]
  },
  {
   "cell_type": "code",
   "execution_count": 292,
   "metadata": {},
   "outputs": [
    {
     "data": {
      "text/plain": [
       "Counter({1: 3, 2: 1})"
      ]
     },
     "execution_count": 292,
     "metadata": {},
     "output_type": "execute_result"
    }
   ],
   "source": [
    "Counter(JoList.counting)"
   ]
  },
  {
   "cell_type": "code",
   "execution_count": 90,
   "metadata": {},
   "outputs": [],
   "source": [
    "# Note that this implementation differs from the queues in the book!\n",
    "# DO NOT edit this code.\n",
    "class LWPriorityQueue:\n",
    "    \"\"\"A dynamic array implementation of a max-priority queue.\n",
    "    Items with the same priority are retrieved in FIFO order.\n",
    "    Items are stored as dictionaries.\n",
    "    \"\"\"\n",
    "    def __init__(self):\n",
    "        \"\"\"Create a new empty queue.\"\"\"\n",
    "        self.items = [] # in ascending order\n",
    "    def length(self) -> int:\n",
    "        \"\"\"Return the number of items in the queue.\"\"\"\n",
    "        return len(self.items)\n",
    "    def find_max(self) -> int:\n",
    "        \"\"\"Return index of the oldest item with the highest priority.\"\"\"\n",
    "        if self.length() == 0:\n",
    "            return -1\n",
    "        max_priority = 0\n",
    "        oldest_item = 0\n",
    "        for index in range(self.length()):\n",
    "            if self.items[index]['priority'] >= max_priority:\n",
    "                max_priority = self.items[index]['priority']\n",
    "                oldest_item = index\n",
    "        return oldest_item\n",
    "    def remove_max(self) -> None:\n",
    "        \"\"\"Remove the oldest item with the highest priority.\"\"\"\n",
    "        if self.length() > 0:\n",
    "            item_to_remove = self.find_max()\n",
    "            self.items.pop(item_to_remove)\n",
    "    def get_max(self) -> dict:\n",
    "        \"\"\"Returns the dictionary of the oldest item with the highest priority,\n",
    "        or an empty dictionary.\"\"\"\n",
    "        index = self.find_max()\n",
    "        if index == -1:\n",
    "            return {}\n",
    "        else:\n",
    "            return self.items[index]\n",
    "    def bump(self, customer: str) -> None:\n",
    "        \"\"\"Increases by one the priority of all items\n",
    "        attributed to the specified customer.\"\"\"\n",
    "        for index in range(self.length()):\n",
    "            if self.items[index]['customer'] == customer:\n",
    "                self.items[index]['priority'] += 1\n",
    "    def insert(self, priority: int, task: str, customer: str, complete_time: int):\n",
    "        \"\"\"Add item with the given priority to the queue.\"\"\"\n",
    "        item = {\n",
    "            'priority': priority,\n",
    "            'task': task,\n",
    "            'customer': customer,\n",
    "            'complete_time': complete_time\n",
    "        }\n",
    "        self.items.insert(0, item)\n",
    "    \n",
    "    def print_queue(self) -> None:\n",
    "        \"\"\" Prints the current state of the priority queue.\"\"\"\n",
    "        print('[')\n",
    "        for item in self.items:\n",
    "             print(' ', item)\n",
    "        print(']')\n"
   ]
  },
  {
   "cell_type": "code",
   "execution_count": 150,
   "metadata": {},
   "outputs": [],
   "source": [
    "from collections import Counter\n",
    "def count_priorities(lists):\n",
    "    \n",
    "    lists.counting = [] \n",
    "    for a in range(lists.length()):\n",
    "        \n",
    "        lists.counting.append(lists.items[a]['priority'])\n",
    "      \n",
    "    return(Counter(lists.counting))    \n",
    "    \n",
    "    \n",
    "  \n",
    " "
   ]
  },
  {
   "cell_type": "code",
   "execution_count": 169,
   "metadata": {},
   "outputs": [
    {
     "data": {
      "text/plain": [
       "Counter({2: 3, 1: 3})"
      ]
     },
     "execution_count": 169,
     "metadata": {},
     "output_type": "execute_result"
    }
   ],
   "source": [
    "JoList3 = LWPriorityQueue()\n",
    "JoList3.insert(1,'belt','stock',45)\n",
    "JoList3.insert(1, 'belt','stock',45)\n",
    "JoList3.insert(2, 'custom wallet','Erich',90)\n",
    "JoList3.insert(1, 'belt','stock',60)\n",
    "JoList3.insert(2, 'custom wallet','Erich',70)\n",
    "JoList3.insert(2, 'custom wallet','Erich',50)\n",
    "count_priorities(JoList3)\n"
   ]
  },
  {
   "cell_type": "markdown",
   "metadata": {},
   "source": [
    "## TMA01 Q2 B"
   ]
  },
  {
   "cell_type": "code",
   "execution_count": 153,
   "metadata": {},
   "outputs": [],
   "source": [
    "JoList3.bump('stock')\n"
   ]
  },
  {
   "cell_type": "code",
   "execution_count": 154,
   "metadata": {},
   "outputs": [
    {
     "name": "stdout",
     "output_type": "stream",
     "text": [
      "[\n",
      "  {'priority': 2, 'task': 'custom wallet', 'customer': 'Erich', 'complete_time': 50}\n",
      "  {'priority': 2, 'task': 'custom wallet', 'customer': 'Erich', 'complete_time': 70}\n",
      "  {'priority': 2, 'task': 'belt', 'customer': 'stock', 'complete_time': 60}\n",
      "  {'priority': 2, 'task': 'custom wallet', 'customer': 'Erich', 'complete_time': 90}\n",
      "  {'priority': 2, 'task': 'belt', 'customer': 'stock', 'complete_time': 45}\n",
      "  {'priority': 2, 'task': 'belt', 'customer': 'stock', 'complete_time': 45}\n",
      "]\n"
     ]
    }
   ],
   "source": [
    "JoList3.print_queue()"
   ]
  },
  {
   "cell_type": "code",
   "execution_count": 175,
   "metadata": {},
   "outputs": [
    {
     "name": "stdout",
     "output_type": "stream",
     "text": [
      "[\n",
      "  {'priority': 3, 'task': 'custom belt', 'customer': 'Erich', 'complete_time': 90}\n",
      "  {'priority': 2, 'task': 'wallet', 'customer': 'stock', 'complete_time': 60}\n",
      "  {'priority': 2, 'task': 'wallet', 'customer': 'Mo', 'complete_time': 60}\n",
      "  {'priority': 2, 'task': 'wallet', 'customer': 'stock', 'complete_time': 60}\n",
      "  {'priority': 1, 'task': 'belt', 'customer': 'Steff', 'complete_time': 45}\n",
      "]\n",
      "None\n"
     ]
    }
   ],
   "source": [
    "leather_list = LWPriorityQueue()\n",
    "leather_list.insert(1, 'belt', 'Steff', 45)\n",
    "leather_list.insert(2, 'wallet', 'stock', 60)\n",
    "leather_list.insert(2, 'wallet', 'Mo', 60)\n",
    "leather_list.insert(2, 'wallet', 'stock', 60)\n",
    "leather_list.insert(3, 'custom belt', 'Erich', 90)\n",
    "print(leather_list.print_queue())\n"
   ]
  },
  {
   "cell_type": "code",
   "execution_count": 176,
   "metadata": {},
   "outputs": [],
   "source": [
    "leather_list.bump('Mo')\n",
    "leather_list.bump('Erich')"
   ]
  },
  {
   "cell_type": "code",
   "execution_count": 177,
   "metadata": {},
   "outputs": [
    {
     "name": "stdout",
     "output_type": "stream",
     "text": [
      "[\n",
      "  {'priority': 4, 'task': 'custom belt', 'customer': 'Erich', 'complete_time': 90}\n",
      "  {'priority': 2, 'task': 'wallet', 'customer': 'stock', 'complete_time': 60}\n",
      "  {'priority': 3, 'task': 'wallet', 'customer': 'Mo', 'complete_time': 60}\n",
      "  {'priority': 2, 'task': 'wallet', 'customer': 'stock', 'complete_time': 60}\n",
      "  {'priority': 1, 'task': 'belt', 'customer': 'Steff', 'complete_time': 45}\n",
      "]\n",
      "None\n"
     ]
    }
   ],
   "source": [
    "print(leather_list.print_queue())"
   ]
  },
  {
   "cell_type": "code",
   "execution_count": 161,
   "metadata": {},
   "outputs": [],
   "source": [
    "leather_list.bump('Erich')\n",
    "leather_list.bump('Steff')"
   ]
  },
  {
   "cell_type": "code",
   "execution_count": null,
   "metadata": {},
   "outputs": [],
   "source": []
  },
  {
   "cell_type": "markdown",
   "metadata": {},
   "source": [
    "## TMA01 Q2 C"
   ]
  },
  {
   "cell_type": "code",
   "execution_count": null,
   "metadata": {},
   "outputs": [],
   "source": []
  },
  {
   "cell_type": "code",
   "execution_count": 4,
   "metadata": {},
   "outputs": [],
   "source": [
    "# Note that this implementation differs from the queues in the book!\n",
    "# DO NOT edit this code.\n",
    "class LWPriorityQueue:\n",
    "    \"\"\"A dynamic array implementation of a max-priority queue.\n",
    "    Items with the same priority are retrieved in FIFO order.\n",
    "    Items are stored as dictionaries.\n",
    "    \"\"\"\n",
    "    def __init__(self):\n",
    "        \"\"\"Create a new empty queue.\"\"\"\n",
    "        self.items = [] # in ascending order\n",
    "    def length(self) -> int:\n",
    "        \"\"\"Return the number of items in the queue.\"\"\"\n",
    "        return len(self.items)\n",
    "    def find_max(self) -> int:\n",
    "        \"\"\"Return index of the oldest item with the highest priority.\"\"\"\n",
    "        if self.length() == 0:\n",
    "            return -1\n",
    "        max_priority = 0\n",
    "        oldest_item = 0\n",
    "        for index in range(self.length()):\n",
    "            if self.items[index]['priority'] >= max_priority:\n",
    "                max_priority = self.items[index]['priority']\n",
    "                oldest_item = index\n",
    "        return oldest_item\n",
    "    def remove_max(self) -> None:\n",
    "        \"\"\"Remove the oldest item with the highest priority.\"\"\"\n",
    "        if self.length() > 0:\n",
    "            item_to_remove = self.find_max()\n",
    "            self.items.pop(item_to_remove)\n",
    "    def get_max(self) -> dict:\n",
    "        \"\"\"Returns the dictionary of the oldest item with the highest priority,\n",
    "        or an empty dictionary.\"\"\"\n",
    "        index = self.find_max()\n",
    "        if index == -1:\n",
    "            return {}\n",
    "        else:\n",
    "            return self.items[index]\n",
    "    def bump(self, customer: str) -> None:\n",
    "        \"\"\"Increases by one the priority of all items\n",
    "        attributed to the specified customer.\"\"\"\n",
    "        for index in range(self.length()):\n",
    "            if self.items[index]['customer'] == customer:\n",
    "                self.items[index]['priority'] += 1\n",
    "    def insert(self, priority: int, task: str, customer: str, complete_time: int):\n",
    "        \"\"\"Add item with the given priority to the queue.\"\"\"\n",
    "        item = {\n",
    "            'priority': priority,\n",
    "            'task': task,\n",
    "            'customer': customer,\n",
    "            'complete_time': complete_time\n",
    "        }\n",
    "        self.items.insert(0, item)\n",
    "    \n",
    "    def print_queue(self) -> None:\n",
    "        \"\"\" Prints the current state of the priority queue.\"\"\"\n",
    "        print('[')\n",
    "        for item in self.items:\n",
    "             print(' ', item)\n",
    "        print(']')\n",
    "        \n",
    "    def compact(self):\n",
    "        \"\"\"compact the priority queue to the lowest option.\"\"\"  \n",
    "        item_index = 0\n",
    "        priority_index = 0\n",
    "        while item_index <= self.find_max():\n",
    "            \n",
    "            if item_index != self.find_max(): \n",
    "                if self.items[item_index]['priority'] != self.items[item_index + 1]['priority']:\n",
    "                    self.items[item_index]['priority'] = priority_index\n",
    "                    priority_index += 1\n",
    "                    item_index += 1\n",
    "                else:\n",
    "                    self.items[item_index]['priority'] = priority_index\n",
    "                    item_index += 1 \n",
    "            else:\n",
    "                self.items[item_index]['priority'] = priority_index\n",
    "                item_index += 1  \n",
    "        return(self)\n",
    "\n",
    "\n",
    "            \n",
    "                \n"
   ]
  },
  {
   "cell_type": "code",
   "execution_count": 5,
   "metadata": {},
   "outputs": [
    {
     "name": "stdout",
     "output_type": "stream",
     "text": [
      "[\n",
      "  {'priority': 3, 'task': 'belt', 'customer': 'AJ', 'complete_time': 25}\n",
      "  {'priority': 4, 'task': 'belt', 'customer': 'AJ', 'complete_time': 45}\n",
      "  {'priority': 9, 'task': 'belt', 'customer': 'Stu', 'complete_time': 45}\n",
      "  {'priority': 12, 'task': 'wallet', 'customer': 'Alex', 'complete_time': 60}\n",
      "  {'priority': 12, 'task': 'belt', 'customer': 'Alex', 'complete_time': 45}\n",
      "  {'priority': 13, 'task': 'belt', 'customer': 'Alex', 'complete_time': 55}\n",
      "]\n"
     ]
    }
   ],
   "source": [
    "JoList4 = LWPriorityQueue()\n",
    "JoList4.insert(13, 'belt','Alex',55)\n",
    "JoList4.insert(12, 'belt','Alex',45)\n",
    "JoList4.insert(12, 'wallet','Alex',60)\n",
    "JoList4.insert(9, 'belt','Stu',45)\n",
    "JoList4.insert(4,'belt','AJ',45)\n",
    "JoList4.insert(3,'belt','AJ',25)\n",
    "JoList4.print_queue()"
   ]
  },
  {
   "cell_type": "code",
   "execution_count": null,
   "metadata": {},
   "outputs": [],
   "source": [
    "JoList4.compact()\n",
    "JoList4.print_queue()"
   ]
  },
  {
   "cell_type": "code",
   "execution_count": null,
   "metadata": {},
   "outputs": [],
   "source": [
    "JoList4.print_queue()"
   ]
  },
  {
   "cell_type": "code",
   "execution_count": null,
   "metadata": {},
   "outputs": [],
   "source": [
    "def compact(self):\n",
    "        \"\"\"compact the priority queue to the lowest option.\"\"\"  \n",
    "        max_index = self.find_max()\n",
    "        while max_index >= 0:  \n",
    "            if self.items[max_index]['priority'] == self.items[max_index - 1]['priority']:\n",
    "                self.items[max_index]['priority'] = max_index - 1\n",
    "            else:\n",
    "                self.items[max_index]['priority'] = max_index\n",
    "            max_index -= 1\n",
    "        return(self)\n"
   ]
  },
  {
   "cell_type": "code",
   "execution_count": null,
   "metadata": {},
   "outputs": [],
   "source": [
    "   def compact(self):\n",
    "        \"\"\"compact the priority queue to the lowest option.\"\"\"  \n",
    "        item_index = 0\n",
    "        priority_index = 0\n",
    "        while item_index <= self.find_max():\n",
    "            \n",
    "            if item_index != self.find_max(): \n",
    "                if self.items[item_index]['priority'] != self.items[item_index + 1]['priority']:\n",
    "                    self.items[item_index]['priority'] = priority_index\n",
    "                    priority_index += 1\n",
    "                    item_index += 1\n",
    "                else:\n",
    "                    self.items[item_index]['priority'] = priority_index\n",
    "                    item_index += 1 \n",
    "            else:\n",
    "                self.items[item_index]['priority'] = priority_index\n",
    "                item_index += 1  \n",
    "        return(self)"
   ]
  },
  {
   "cell_type": "markdown",
   "metadata": {},
   "source": [
    "## TMA01 Q2 D"
   ]
  },
  {
   "cell_type": "code",
   "execution_count": 62,
   "metadata": {},
   "outputs": [],
   "source": [
    "# Note that this implementation differs from the queues in the book!\n",
    "# DO NOT edit this code.\n",
    "class LWPriorityQueue:\n",
    "    \"\"\"A dynamic array implementation of a max-priority queue.\n",
    "    Items with the same priority are retrieved in FIFO order.\n",
    "    Items are stored as dictionaries.\n",
    "    \"\"\"\n",
    "    def __init__(self):\n",
    "        \"\"\"Create a new empty queue.\"\"\"\n",
    "        self.items = [] # in ascending order\n",
    "    def length(self) -> int:\n",
    "        \"\"\"Return the number of items in the queue.\"\"\"\n",
    "        return len(self.items)\n",
    "    def find_max(self) -> int:\n",
    "        \"\"\"Return index of the oldest item with the highest priority.\"\"\"\n",
    "        if self.length() == 0:\n",
    "            return -1\n",
    "        max_priority = 0\n",
    "        oldest_item = 0\n",
    "        for index in range(self.length()):\n",
    "            if self.items[index]['priority'] >= max_priority:\n",
    "                max_priority = self.items[index]['priority']\n",
    "                oldest_item = index\n",
    "        return oldest_item\n",
    "    def remove_max(self) -> None:\n",
    "        \"\"\"Remove the oldest item with the highest priority.\"\"\"\n",
    "        if self.length() > 0:\n",
    "            item_to_remove = self.find_max()\n",
    "            self.items.pop(item_to_remove)\n",
    "    def get_max(self) -> dict:\n",
    "        \"\"\"Returns the dictionary of the oldest item with the highest priority,\n",
    "        or an empty dictionary.\"\"\"\n",
    "        index = self.find_max()\n",
    "        if index == -1:\n",
    "            return {}\n",
    "        else:\n",
    "            return self.items[index]\n",
    "    def bump(self, customer: str) -> None:\n",
    "        \"\"\"Increases by one the priority of all items\n",
    "        attributed to the specified customer.\"\"\"\n",
    "        for index in range(self.length()):\n",
    "            if self.items[index]['customer'] == customer:\n",
    "                self.items[index]['priority'] += 1\n",
    "    def insert(self, priority: int, task: str, customer: str, complete_time: int):\n",
    "        \"\"\"Add item with the given priority to the queue.\"\"\"\n",
    "        item = {\n",
    "            'priority': priority,\n",
    "            'task': task,\n",
    "            'customer': customer,\n",
    "            'complete_time': complete_time\n",
    "        }\n",
    "        self.items.insert(0, item)\n",
    "    \n",
    "    def print_queue(self) -> None:\n",
    "        \"\"\" Prints the current state of the priority queue.\"\"\"\n",
    "        print('[')\n",
    "        for item in self.items:\n",
    "             print(' ', item)\n",
    "        print(']')\n",
    "        \n",
    "\n",
    "\n",
    "            \n",
    "                \n"
   ]
  },
  {
   "cell_type": "code",
   "execution_count": 63,
   "metadata": {},
   "outputs": [
    {
     "name": "stdout",
     "output_type": "stream",
     "text": [
      "[\n",
      "  {'priority': 3, 'task': 'belt', 'customer': 'AJ', 'complete_time': 25}\n",
      "  {'priority': 4, 'task': 'belt', 'customer': 'AJ', 'complete_time': 45}\n",
      "  {'priority': 9, 'task': 'belt', 'customer': 'Stu', 'complete_time': 45}\n",
      "  {'priority': 12, 'task': 'wallet', 'customer': 'Alex', 'complete_time': 60}\n",
      "  {'priority': 12, 'task': 'belt', 'customer': 'Alex', 'complete_time': 45}\n",
      "  {'priority': 13, 'task': 'belt', 'customer': 'Alex', 'complete_time': 55}\n",
      "]\n"
     ]
    }
   ],
   "source": [
    "JoList5 = LWPriorityQueue()\n",
    "JoList5.insert(13, 'belt','Alex',55)\n",
    "JoList5.insert(12, 'belt','Alex',45)\n",
    "JoList5.insert(12, 'wallet','Alex',60)\n",
    "JoList5.insert(9, 'belt','Stu',45)\n",
    "JoList5.insert(4,'belt','AJ',45)\n",
    "JoList5.insert(3,'belt','AJ',25)\n",
    "JoList5.print_queue()"
   ]
  },
  {
   "cell_type": "code",
   "execution_count": 64,
   "metadata": {},
   "outputs": [],
   "source": [
    "def find_customer(thelist, customer):\n",
    "    \"\"\"returns the number and prints the items of the given \n",
    "       dictionary with all the orders of the given customer\"\"\"    \n",
    "    total = 0\n",
    "    for item in range (thelist.length()):\n",
    "        if thelist.items[item]['customer'] == customer:\n",
    "                print(thelist.items[item])\n",
    "                total+=1\n",
    "    return total"
   ]
  },
  {
   "cell_type": "code",
   "execution_count": 65,
   "metadata": {},
   "outputs": [
    {
     "name": "stdout",
     "output_type": "stream",
     "text": [
      "{'priority': 12, 'task': 'wallet', 'customer': 'Alex', 'complete_time': 60}\n",
      "{'priority': 12, 'task': 'belt', 'customer': 'Alex', 'complete_time': 45}\n",
      "{'priority': 13, 'task': 'belt', 'customer': 'Alex', 'complete_time': 55}\n"
     ]
    },
    {
     "data": {
      "text/plain": [
       "3"
      ]
     },
     "execution_count": 65,
     "metadata": {},
     "output_type": "execute_result"
    }
   ],
   "source": [
    "loop_through_orders_looking_for_customer(JoList5, 'Alex')"
   ]
  },
  {
   "cell_type": "code",
   "execution_count": null,
   "metadata": {},
   "outputs": [],
   "source": [
    "def loop_through_orders_looking_for_customer(thelist, c):\n",
    "    i = 0\n",
    "    for item in thelist.items:\n",
    "        for key in item:\n",
    "            if key == 'customer' and item[key] == c:\n",
    "                print(item)\n",
    "                i+=1\n",
    "    return i"
   ]
  }
 ],
 "metadata": {
  "kernelspec": {
   "display_name": "Python 3",
   "language": "python",
   "name": "python3"
  },
  "language_info": {
   "codemirror_mode": {
    "name": "ipython",
    "version": 3
   },
   "file_extension": ".py",
   "mimetype": "text/x-python",
   "name": "python",
   "nbconvert_exporter": "python",
   "pygments_lexer": "ipython3",
   "version": "3.8.6"
  }
 },
 "nbformat": 4,
 "nbformat_minor": 4
}
